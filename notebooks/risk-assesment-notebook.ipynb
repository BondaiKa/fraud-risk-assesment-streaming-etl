{
 "cells": [
  {
   "cell_type": "markdown",
   "metadata": {
    "application/vnd.databricks.v1+cell": {
     "cellMetadata": {},
     "inputWidgets": {},
     "nuid": "7150b2a4-cb8a-4e2d-a14e-f41b00a8ac2a",
     "showTitle": false,
     "title": ""
    }
   },
   "source": [
    "## Risk Assessment Notebook\n",
    "\n",
    "#### Description\n",
    "\n",
    "The purpose of this notebook is to receive JSON transactions that are stored in Kafka (Azure Event Hub). I created two tables to store the data: `Company` and `Client`. The most important one is the `Client` table.\n",
    "\n",
    "The idea was to apply Slowly Changing Dimension (SCD) Type 1 to the `Company` table, and a mix of SCD Type 1 and Type 2 to the `Client` table.\n",
    "\n",
    "##### Achievements:\n",
    "\n",
    "- **Received JSON transaction files without skipping or loss.**\n",
    "- **Processed and stored `Company` information using SCD Type 1.**\n",
    "- **Created a simple dashboard to track `Client` changes.**\n",
    "- **Verified duplicate transactions** by using a control table `processed_transactions` to ensure that each transaction is processed only once.\n",
    "\n",
    "##### Areas Not Achieved:\n",
    "\n",
    "- **Implementing SCD Type 2 for important data in the `Client` table** (code is not working; I wanted to save the history of `credit_rating`, `total_cost`, `risk_score`, `risk_level`, and `approval_status`).\n",
    "- **Developing a comprehensive dashboard system** (I don't have a Windows laptop to create a Power BI Dashboard that works well with Azure Databricks, so I quickly wrote a simple Matplotlib chart).\n",
    "- **Handling invalid data** — next steps include validating each column and not updating columns if they contain invalid data (e.g., a `number` instead of a `date`)."
   ]
  },
  {
   "cell_type": "markdown",
   "metadata": {
    "application/vnd.databricks.v1+cell": {
     "cellMetadata": {},
     "inputWidgets": {},
     "nuid": "62591492-eee9-45c0-a021-ad8ec6c1575f",
     "showTitle": false,
     "title": ""
    }
   },
   "source": [
    "### Imports"
   ]
  },
  {
   "cell_type": "code",
   "execution_count": 0,
   "metadata": {
    "application/vnd.databricks.v1+cell": {
     "cellMetadata": {
      "byteLimit": 2048000,
      "rowLimit": 10000
     },
     "inputWidgets": {},
     "nuid": "cbfa0496-a16d-40c4-8f87-9ad92be204a8",
     "showTitle": false,
     "title": ""
    }
   },
   "outputs": [],
   "source": [
    "from pyspark.sql import functions as F\n",
    "from pyspark.sql.types import (\n",
    "  StructType, StructField, \n",
    "  StringType, TimestampType, \n",
    "  IntegerType, DecimalType, \n",
    "  ArrayType, DoubleType,\n",
    "  DateType, BooleanType\n",
    ")\n",
    "from pyspark.sql import Row\n",
    "from pyspark.sql.utils import AnalysisException\n",
    "from delta.tables import DeltaTable\n",
    "from pyspark.sql.window import Window\n",
    "from pyspark.sql.functions import row_number\n",
    "\n",
    "from decimal import Decimal\n",
    "from datetime import date  "
   ]
  },
  {
   "cell_type": "markdown",
   "metadata": {
    "application/vnd.databricks.v1+cell": {
     "cellMetadata": {},
     "inputWidgets": {},
     "nuid": "90b61da0-3b55-4941-8436-2411646fa4f9",
     "showTitle": false,
     "title": ""
    }
   },
   "source": [
    "#### Connection settings\n",
    "\n",
    "I retrieve secrets that i put in databricks secrets before"
   ]
  },
  {
   "cell_type": "code",
   "execution_count": 0,
   "metadata": {
    "application/vnd.databricks.v1+cell": {
     "cellMetadata": {
      "byteLimit": 2048000,
      "rowLimit": 10000
     },
     "inputWidgets": {},
     "nuid": "3397f5f1-841b-4911-9099-8b99b92ab7c0",
     "showTitle": false,
     "title": ""
    }
   },
   "outputs": [],
   "source": [
    "EH_NAMESPACE                    = \"event-hubs-kafka-namespace\"\n",
    "EH_NAME                         = \"kafka-transaction\"\n",
    "\n",
    "EH_CONN_SHARED_ACCESS_KEY_NAME  = \"databricks-consumer\"\n",
    "SECRET_SCOPE                    = \"databricks-kafka-scope\"\n",
    "EH_CONN_SHARED_ACCESS_KEY_VALUE = dbutils.secrets.get(scope = SECRET_SCOPE, key = EH_CONN_SHARED_ACCESS_KEY_NAME)\n",
    "\n",
    "EH_CONN_STR                     = f\"Endpoint=sb://{EH_NAMESPACE}.servicebus.windows.net/;SharedAccessKeyName={EH_CONN_SHARED_ACCESS_KEY_NAME};SharedAccessKey={EH_CONN_SHARED_ACCESS_KEY_VALUE}\"\n",
    "\n",
    "ehConf = {\n",
    "  'eventhubs.connectionString' : sc._jvm.org.apache.spark.eventhubs.EventHubsUtils.encrypt(EH_CONN_STR),\n",
    "  'eventhubs.eventHubName': EH_NAME\n",
    "}"
   ]
  },
  {
   "cell_type": "markdown",
   "metadata": {
    "application/vnd.databricks.v1+cell": {
     "cellMetadata": {},
     "inputWidgets": {},
     "nuid": "37b28ff3-52b8-4a3f-ad67-758854096a2b",
     "showTitle": false,
     "title": ""
    }
   },
   "source": [
    "#### Reading incoming stream from kafka/event-hub"
   ]
  },
  {
   "cell_type": "code",
   "execution_count": 0,
   "metadata": {
    "application/vnd.databricks.v1+cell": {
     "cellMetadata": {
      "byteLimit": 2048000,
      "rowLimit": 10000
     },
     "inputWidgets": {},
     "nuid": "3ab57af3-36c7-4ffa-b13f-a833d7a2dc53",
     "showTitle": false,
     "title": ""
    }
   },
   "outputs": [],
   "source": [
    "raw_streaming_df = spark.readStream \\\n",
    "    .format(\"eventhubs\") \\\n",
    "    .options(**ehConf) \\\n",
    "    .load()"
   ]
  },
  {
   "cell_type": "markdown",
   "metadata": {
    "application/vnd.databricks.v1+cell": {
     "cellMetadata": {},
     "inputWidgets": {},
     "nuid": "77fdc8e9-3ca9-4b25-bcbe-fb955d5a80a8",
     "showTitle": false,
     "title": ""
    }
   },
   "source": [
    "#### Simple Potential Incoming Json\n",
    "\n",
    "It's not garantee that all columns will be updated. So it's nullable except the most important one. On a future of company_id for example wasn't sent - drop value, becase json can be broken"
   ]
  },
  {
   "cell_type": "code",
   "execution_count": 0,
   "metadata": {
    "application/vnd.databricks.v1+cell": {
     "cellMetadata": {
      "byteLimit": 2048000,
      "rowLimit": 10000
     },
     "inputWidgets": {},
     "nuid": "5117de01-9808-4dfd-8dbc-133cc67a62f9",
     "showTitle": false,
     "title": ""
    }
   },
   "outputs": [],
   "source": [
    "#  Example of dummy Json file that I imagined\n",
    "\n",
    "json_schema = StructType([\n",
    "    StructField(\"transaction_id\", StringType(), nullable=True),\n",
    "    StructField(\"timestamp\", TimestampType()),\n",
    "    StructField(\"transaction_location\", StringType(), nullable=True),\n",
    "    StructField(\"company\", StructType([\n",
    "        StructField(\"company_id\", StringType(), nullable=False),\n",
    "        StructField(\"company_name\", StringType(), nullable=True),\n",
    "        StructField(\"address\", StringType(), nullable=True),\n",
    "        StructField(\"email\", StringType(), nullable=True),\n",
    "        StructField(\"credit_rating\", IntegerType(), nullable=True)\n",
    "    ]),nullable=True),\n",
    "    StructField(\"client\", StructType([\n",
    "        StructField(\"client_id\", StringType(), nullable=False),\n",
    "        StructField(\"name\", StringType(), nullable=True),\n",
    "        StructField(\"email\", StringType(), nullable=True),\n",
    "        StructField(\"credit_rating\", IntegerType(), nullable=True),\n",
    "        StructField(\"total_cost\", DecimalType(precision=10, scale=2))\n",
    "    ]),nullable=True),\n",
    "    StructField(\"risk_assessment\", StructType([\n",
    "        StructField(\"client_id\", StringType(), nullable=False),\n",
    "        StructField(\"risk_score\", DoubleType(), nullable=True),\n",
    "        StructField(\"risk_level\", StringType(), nullable=True),\n",
    "        StructField(\"approval_status\", StringType(), nullable=True)\n",
    "    ]),nullable=True)\n",
    "])"
   ]
  },
  {
   "cell_type": "markdown",
   "metadata": {
    "application/vnd.databricks.v1+cell": {
     "cellMetadata": {},
     "inputWidgets": {},
     "nuid": "392d171a-94cb-47e6-834a-4a27d43fa638",
     "showTitle": false,
     "title": ""
    }
   },
   "source": [
    "#### Let's get necessary data from json: 'body' and 'timestamp'"
   ]
  },
  {
   "cell_type": "code",
   "execution_count": 0,
   "metadata": {
    "application/vnd.databricks.v1+cell": {
     "cellMetadata": {
      "byteLimit": 2048000,
      "rowLimit": 10000
     },
     "inputWidgets": {},
     "nuid": "a2f53837-d32c-4b08-9ab8-e59c556753ab",
     "showTitle": false,
     "title": ""
    }
   },
   "outputs": [],
   "source": [
    "# Parse body of incomming Json and take timestamp\n",
    "json_streaming_df = (\n",
    "    raw_streaming_df\n",
    "        .select(\n",
    "            F.from_json(F.col(\"body\").cast(\"string\"), json_schema).alias(\"data\"),\n",
    "            F.col('enqueuedTime').alias('timestamp'))\n",
    "        .select(\"data.*\")\n",
    ")"
   ]
  },
  {
   "cell_type": "markdown",
   "metadata": {
    "application/vnd.databricks.v1+cell": {
     "cellMetadata": {},
     "inputWidgets": {},
     "nuid": "f907f508-bfad-4f1d-969b-a2ea06451077",
     "showTitle": false,
     "title": ""
    }
   },
   "source": [
    "#### Let's create if 'processed_transaction' table to store transaction_id and ignore duplicated trnasactions"
   ]
  },
  {
   "cell_type": "code",
   "execution_count": 0,
   "metadata": {
    "application/vnd.databricks.v1+cell": {
     "cellMetadata": {
      "byteLimit": 2048000,
      "rowLimit": 10000
     },
     "inputWidgets": {},
     "nuid": "b990cb6a-48b9-4456-b83b-43637fdb7c70",
     "showTitle": false,
     "title": ""
    }
   },
   "outputs": [],
   "source": [
    "company_table_path = \"/risk_assessment_workspace/company\"\n",
    "processed_transactions_table_path = \"/risk_assessment_workspace/processed_transactions\"\n",
    "client_table_path= \"/risk_assessment_workspace/client\""
   ]
  },
  {
   "cell_type": "markdown",
   "metadata": {
    "application/vnd.databricks.v1+cell": {
     "cellMetadata": {},
     "inputWidgets": {},
     "nuid": "8c895246-aa62-4821-9399-1152a4655c7c",
     "showTitle": false,
     "title": ""
    }
   },
   "source": [
    "#### Processed transaction table in Delta Lake"
   ]
  },
  {
   "cell_type": "code",
   "execution_count": 0,
   "metadata": {
    "application/vnd.databricks.v1+cell": {
     "cellMetadata": {
      "byteLimit": 2048000,
      "rowLimit": 10000
     },
     "inputWidgets": {},
     "nuid": "eddc5b3a-6317-4141-87c1-ce3657bffa93",
     "showTitle": false,
     "title": ""
    }
   },
   "outputs": [
    {
     "name": "stdout",
     "output_type": "stream",
     "text": [
      "Delta table created at path: /risk_assessment_workspace/processed_transactions\n"
     ]
    }
   ],
   "source": [
    "# `processed_transactions`\n",
    "# dbutils.fs.rm(processed_transactions_table_path, True)\n",
    "\n",
    "processed_transaction_schema = StructType([\n",
    "  StructField(\"transaction_id\", StringType(), False)\n",
    "])\n",
    "\n",
    "if not DeltaTable.isDeltaTable(spark, processed_transactions_table_path):\n",
    "    dbutils.fs.rm(processed_transactions_table_path, True) # In case of there is something else but not Delta Table\n",
    "\n",
    "    empty_df = spark.createDataFrame([], processed_transaction_schema)\n",
    "    empty_df.write.format(\"delta\").mode(\"overwrite\").save(processed_transactions_table_path)\n",
    "    print(\"Delta table created at path:\", processed_transactions_table_path)\n",
    "else:\n",
    "    print(\"Delta table already exists at path:\", processed_transactions_table_path)"
   ]
  },
  {
   "cell_type": "markdown",
   "metadata": {
    "application/vnd.databricks.v1+cell": {
     "cellMetadata": {},
     "inputWidgets": {},
     "nuid": "23afe14d-48d7-4f35-b7f2-84e60f6ae5fc",
     "showTitle": false,
     "title": ""
    }
   },
   "source": [
    "#### Company table in Delta Lake"
   ]
  },
  {
   "cell_type": "code",
   "execution_count": 0,
   "metadata": {
    "application/vnd.databricks.v1+cell": {
     "cellMetadata": {
      "byteLimit": 2048000,
      "rowLimit": 10000
     },
     "inputWidgets": {},
     "nuid": "1a735c59-a1a6-4020-9ffd-51d192e3172e",
     "showTitle": false,
     "title": ""
    }
   },
   "outputs": [
    {
     "name": "stdout",
     "output_type": "stream",
     "text": [
      "Delta table created at path: /risk_assessment_workspace/company\n"
     ]
    }
   ],
   "source": [
    "# `Company` table\n",
    "# dbutils.fs.rm(company_table_path, True)\n",
    "\n",
    "company_schema = StructType([\n",
    "    StructField(\"company_id\", StringType(), True),\n",
    "    StructField(\"company_name\", StringType(), True),\n",
    "    StructField(\"address\", StringType(), True),\n",
    "    StructField(\"email\", StringType(), True),\n",
    "    StructField(\"credit_rating\", StringType(), True),\n",
    "])\n",
    "\n",
    "if not DeltaTable.isDeltaTable(spark, company_table_path):\n",
    "    dbutils.fs.rm(company_table_path, True) # In case of there is something else but not Delta Table\n",
    "\n",
    "    empty_df = spark.createDataFrame([], company_schema)\n",
    "    empty_df.write.format(\"delta\").mode(\"overwrite\").save(company_table_path)\n",
    "    print(\"Delta table created at path:\", company_table_path)\n",
    "else:\n",
    "    print(\"Delta table already exists at path:\", company_table_path)\n"
   ]
  },
  {
   "cell_type": "markdown",
   "metadata": {
    "application/vnd.databricks.v1+cell": {
     "cellMetadata": {},
     "inputWidgets": {},
     "nuid": "9c655cad-6174-4e3a-8b09-f1856aa1d7d9",
     "showTitle": false,
     "title": ""
    }
   },
   "source": [
    "#### Client table in Delta Lake"
   ]
  },
  {
   "cell_type": "markdown",
   "metadata": {
    "application/vnd.databricks.v1+cell": {
     "cellMetadata": {},
     "inputWidgets": {},
     "nuid": "a14fe2e7-69e1-483c-890c-848e69916897",
     "showTitle": false,
     "title": ""
    }
   },
   "source": [
    "I tried to generate surrigate key via sql\n",
    "```python\n",
    " spark.sql(\n",
    " f\"\"\"\n",
    "     CREATE TABLE IF NOT EXISTS delta.`{client_table_path}`\n",
    "     (\n",
    "        client_sk BIGINT GENERATED  BY DEFAULT AS IDENTITY (START WITH 1 INCREMENT BY 1),\n",
    "        ...\n",
    "\n",
    "```\n",
    "But I wasn't successfull when i try to merge client table"
   ]
  },
  {
   "cell_type": "code",
   "execution_count": 0,
   "metadata": {
    "application/vnd.databricks.v1+cell": {
     "cellMetadata": {
      "byteLimit": 2048000,
      "rowLimit": 10000
     },
     "inputWidgets": {},
     "nuid": "e7ae3965-e1ce-4695-b003-8a703a3c78a7",
     "showTitle": false,
     "title": ""
    }
   },
   "outputs": [
    {
     "name": "stdout",
     "output_type": "stream",
     "text": [
      "Delta table created at path: /risk_assessment_workspace/client\n"
     ]
    }
   ],
   "source": [
    "# `Client` table\n",
    "# dbutils.fs.rm(client_table_path, True)\n",
    "\n",
    "client_schema = StructType([\n",
    "    StructField(\"client_sk\", IntegerType(), nullable=False),  # Surrogate key should be nullable=False\n",
    "    StructField(\"client_id\", StringType(), nullable=False),   # Business key should be nullable=False\n",
    "    StructField(\"name\", StringType(), nullable=True),         # SCD Type 1\n",
    "    StructField(\"email\", StringType(), nullable=True),        # SCD Type 1\n",
    "    StructField(\"credit_rating\", IntegerType(), nullable=True),  # SCD Type 2\n",
    "    StructField(\"total_cost\", DecimalType(10, 2), nullable=True), # SCD Type 2\n",
    "    StructField(\"effective_start_date\", DateType(), nullable=True),\n",
    "    StructField(\"effective_end_date\", DateType(), nullable=True),\n",
    "    StructField(\"is_current\", BooleanType(), nullable=False), # should be nullable=False\n",
    "    StructField(\"risk_score\", DoubleType(), nullable=True),\n",
    "    StructField(\"risk_level\", StringType(), nullable=True),\n",
    "    StructField(\"approval_status\", StringType(), nullable=True)\n",
    "])\n",
    "\n",
    "if not DeltaTable.isDeltaTable(spark, client_table_path):\n",
    "    dbutils.fs.rm(client_table_path, True) # In case of there is something else but not Delta Table\n",
    "\n",
    "    empty_df = spark.createDataFrame([], client_schema)\n",
    "    empty_df.write.format(\"delta\").mode(\"overwrite\").save(client_table_path)\n",
    "    print(f\"Delta table created at path: {client_table_path}\")\n",
    "else:\n",
    "    print(f\"Delta table already exists at path: {client_table_path}\")"
   ]
  },
  {
   "cell_type": "code",
   "execution_count": 0,
   "metadata": {
    "application/vnd.databricks.v1+cell": {
     "cellMetadata": {
      "byteLimit": 2048000,
      "rowLimit": 10000
     },
     "inputWidgets": {},
     "nuid": "4a981d0d-8c2d-42cf-8b27-a09ee1525576",
     "showTitle": false,
     "title": ""
    }
   },
   "outputs": [
    {
     "name": "stdout",
     "output_type": "stream",
     "text": [
      "<pyspark.sql.streaming.query.StreamingQuery at 0x7f7e9cbd3a60>"
     ]
    }
   ],
   "source": [
    "# global variables that used in `process_microbatch`` function\n",
    "company_table = DeltaTable.forPath(spark, company_table_path)\n",
    "processed_transactions_table = DeltaTable.forPath(spark, processed_transactions_table_path)\n",
    "client_table = DeltaTable.forPath(spark, client_table_path)\n",
    "\n",
    "def process_microbatch(microbatch_df, batch_id):\n",
    "    \"\"\"Process new incoming transactions.\n",
    "    \n",
    "    Fetches new incomming transactions from kafka aka azure event-hub and update 'company', 'client', and 'processed_transactions' tables if it's necessary. The idea is to process company in SCD 1 fully, processed_transactions is control table of incomming transaction and ignore income json if transaction_id is the same. And Client should be mix of SCD type 1 and 2.\n",
    "    \"\"\"\n",
    "\n",
    "    processed_transactions_df = processed_transactions_table.toDF()\n",
    "\n",
    "    new_transactions_df = microbatch_df.join(\n",
    "        processed_transactions_df,\n",
    "        on=\"transaction_id\",\n",
    "        how=\"left_anti\"\n",
    "    )\n",
    "\n",
    "    if not new_transactions_df.rdd.isEmpty():\n",
    "        \n",
    "        ###########################\n",
    "        # Company table update logic\n",
    "        ###########################\n",
    "        # Flatten company info\n",
    "        company_updates_df = new_transactions_df.select(\n",
    "            F.col(\"company.company_id\").alias(\"company_id\"),\n",
    "            F.col(\"company.company_name\").alias(\"company_name\"),\n",
    "            F.col(\"company.address\").alias(\"address\"),\n",
    "            F.col(\"company.email\").alias(\"email\"),\n",
    "            F.col(\"company.credit_rating\").alias(\"credit_rating\")\n",
    "        )\n",
    "\n",
    "        # Merge into the 'company' table (SCD Type 1)\n",
    "        company_table.alias(\"target\").merge(\n",
    "            company_updates_df.alias(\"source\"),\n",
    "            \"target.company_id = source.company_id\"\n",
    "        ).whenMatchedUpdate(set={\n",
    "            \"company_name\": \"source.company_name\",\n",
    "            \"address\": \"source.address\",\n",
    "            \"email\": \"source.email\",\n",
    "            \"credit_rating\": \"source.credit_rating\"\n",
    "        }).whenNotMatchedInsertAll().execute()\n",
    "\n",
    "\n",
    "        ###########################\n",
    "        # Process transaction logic\n",
    "        ###########################\n",
    "        # Update 'processed_transaction' table\n",
    "        new_transaction_ids_df = new_transactions_df.select(\"transaction_id\")\n",
    "\n",
    "        processed_transactions_table.alias(\"target\").merge(\n",
    "            new_transaction_ids_df.alias(\"source\"),\n",
    "            \"target.transaction_id = source.transaction_id\"\n",
    "        ).whenNotMatchedInsertAll().execute()\n",
    "\n",
    "\n",
    "        #################################\n",
    "        # Client table update logic SCD 1\n",
    "        #################################\n",
    "\n",
    "        #FIXME: doesn't work - table is empty below\n",
    "        # Update via SCD Type 1 'name' and 'email'\n",
    "        client_updates_df = (\n",
    "            new_transactions_df \n",
    "                .withColumn(\"effective_end_date\", F.lit(None).cast(DateType())) \n",
    "                .withColumn(\"is_current\", F.lit(True)) \n",
    "                .withColumn(\"effective_start_date\", F.col('timestamp').cast(DateType())) \n",
    "                .select(\n",
    "                    F.col(\"client.client_id\").alias(\"client_id\"),\n",
    "                    F.col(\"client.name\").alias(\"name\"),\n",
    "                    F.col(\"client.email\").alias(\"email\"),\n",
    "                    F.col(\"client.credit_rating\").alias(\"credit_rating\"),\n",
    "                    F.col(\"client.total_cost\").cast(DecimalType(10, 2)).alias(\"total_cost\"),\n",
    "                    F.col('effective_start_date'),\n",
    "                    F.col('effective_end_date'),\n",
    "                    F.col('is_current'),\n",
    "                    F.col('risk_assessment.risk_score').alias(\"risk_score\"),\n",
    "                    F.col('risk_assessment.risk_level').alias(\"risk_level\"),\n",
    "                    F.col('risk_assessment.approval_status').alias(\"approval_status\"),\n",
    "                )\n",
    "        )\n",
    "\n",
    "        # SCD 1: change email and name without creating new row\n",
    "        client_table.alias(\"target\").merge(\n",
    "            client_updates_df.alias(\"source\"),\n",
    "            \"target.client_id = source.client_id AND target.is_current = true\"\n",
    "        ).whenMatchedUpdate(set={\n",
    "            \"name\": \"source.name\",\n",
    "            \"email\": \"source.email\"\n",
    "        }).whenNotMatchedInsert(values={\n",
    "            \"client_id\": F.col(\"source.client_id\"),\n",
    "            \"name\": F.col(\"source.name\"),\n",
    "            \"email\": F.col(\"source.email\"),\n",
    "            \"credit_rating\": F.col(\"source.credit_rating\"),\n",
    "            \"total_cost\": F.col(\"source.total_cost\"),\n",
    "            \"effective_start_date\": F.col(\"source.effective_start_date\"),\n",
    "            \"effective_end_date\": F.col(\"source.effective_end_date\"),\n",
    "            \"is_current\": F.col(\"source.is_current\"),\n",
    "            \"risk_score\": F.col(\"source.risk_score\"),\n",
    "            \"risk_level\": F.col(\"source.risk_level\"),\n",
    "            \"approval_status\": F.col(\"source.approval_status\"),\n",
    "        }).execute()\n",
    "\n",
    "        # FIXME: doesn't work below\n",
    "        # Next things that needs to be done is apply SCD type 2 on \"credit_rating\", \n",
    "        # \"total_cost\", increment surrogate_key 'client_sk', and change 'start/end' dates and 'is_current' flag \n",
    "        # fetch unchanged data of previous row and create new one\n",
    "\n",
    "        #################################\n",
    "        # Client table update logic SCD 2\n",
    "        #################################\n",
    "        # Define the columns for SCD Type 2 comparison\n",
    "        scd2_columns = [\"credit_rating\", \"total_cost\", \"risk_score\", \"risk_level\", \"approval_status\"]\n",
    "        current_client_records_df = client_table.toDF().filter(\"is_current = true\")\n",
    "\n",
    "        scd2_join_df = current_client_records_df.alias(\"target\").join(\n",
    "            client_updates_df.alias(\"source\"),\n",
    "            on=\"client_id\",\n",
    "            how=\"inner\"\n",
    "        )\n",
    "\n",
    "        scd2_condition = \" OR \".join([f\"target.{col} <> source.{col}\" for col in scd2_columns])\n",
    "        scd2_changed_df = scd2_join_df.filter(scd2_condition)\n",
    "\n",
    "        if not scd2_changed_df.rdd.isEmpty():\n",
    "            records_to_expire = scd2_changed_df.select(\n",
    "                F.col(\"target.client_sk\"),\n",
    "                F.col(\"source.effective_start_date\").alias(\"new_effective_end_date\")\n",
    "            )\n",
    "            \n",
    "            # Update existing records in bulk using merge\n",
    "            client_table.alias(\"target\").merge(\n",
    "                records_to_expire.alias(\"updates\"),\n",
    "                \"target.client_sk = updates.client_sk AND target.is_current = true\"\n",
    "            ).whenMatchedUpdate(set={\n",
    "                \"effective_end_date\": \"updates.new_effective_end_date\",\n",
    "                \"is_current\": \"false\"\n",
    "            }).execute()\n",
    "\n",
    "            # Prepare new record via SCD 2\n",
    "            new_scd2_records_df = scd2_changed_df.select(\n",
    "                F.col(\"target.client_sk\"),\n",
    "                F.col(\"source.client_id\"),\n",
    "                F.col(\"source.name\"),\n",
    "                F.col(\"source.email\"),\n",
    "                F.col(\"source.credit_rating\"),\n",
    "                F.col(\"source.total_cost\"),\n",
    "                F.col(\"source.effective_start_date\"),\n",
    "                F.col(\"source.risk_score\"),\n",
    "                F.col(\"source.risk_level\"),\n",
    "                F.col(\"source.approval_status\")\n",
    "            ).withColumn(\"effective_end_date\", F.lit(None).cast(\"date\")) \\\n",
    "            .withColumn(\"is_current\", F.lit(True)) \\\n",
    "            .withColumn(\"client_sk\", F.col(\"target.client_sk\") + 1) \\\n",
    "            .select(\n",
    "                \"client_sk\",\n",
    "                \"client_id\", \"name\", \"email\",\n",
    "                \"credit_rating\", \"total_cost\",\n",
    "                \"effective_start_date\", \"effective_end_date\", \"is_current\",\n",
    "                \"risk_score\", \"risk_level\", \"approval_status\"\n",
    "            )\n",
    "\n",
    "            new_scd2_records_df.write.format(\"delta\").mode(\"append\").save(client_table_path)\n",
    "\n",
    "\n",
    "# Start the streaming query\n",
    "json_stream = (\n",
    "    json_streaming_df.writeStream\n",
    "    .foreachBatch(process_microbatch)\n",
    "    .outputMode(\"append\")\n",
    "    .option(\"checkpointLocation\", \"/mnt/risk_assessment_workspace/checkpoints/transaction_checkpoint\")\n",
    "    .start()\n",
    ")\n",
    "\n",
    "display(json_stream)"
   ]
  },
  {
   "cell_type": "code",
   "execution_count": 0,
   "metadata": {
    "application/vnd.databricks.v1+cell": {
     "cellMetadata": {
      "byteLimit": 2048000,
      "rowLimit": 10000
     },
     "inputWidgets": {},
     "nuid": "a1c3b499-9c31-42da-a910-40ff0df56f94",
     "showTitle": false,
     "title": ""
    }
   },
   "outputs": [
    {
     "name": "stdout",
     "output_type": "stream",
     "text": [
      "+--------------+\n",
      "|transaction_id|\n",
      "+--------------+\n",
      "|1111          |\n",
      "|2222          |\n",
      "+--------------+\n",
      "\n"
     ]
    }
   ],
   "source": [
    "processed_transactions_df = spark.read.format(\"delta\").load(processed_transactions_table_path)\n",
    "\n",
    "# Display the contents\n",
    "processed_transactions_df.show(truncate=False)"
   ]
  },
  {
   "cell_type": "code",
   "execution_count": 0,
   "metadata": {
    "application/vnd.databricks.v1+cell": {
     "cellMetadata": {
      "byteLimit": 2048000,
      "rowLimit": 10000
     },
     "inputWidgets": {},
     "nuid": "ee71f27f-251d-45d1-bab8-769664079834",
     "showTitle": false,
     "title": ""
    }
   },
   "outputs": [
    {
     "name": "stdout",
     "output_type": "stream",
     "text": [
      "+----------+---------------------+-------------------------------------------------+-------------------------------+-------------+\n",
      "|company_id|company_name         |address                                          |email                          |credit_rating|\n",
      "+----------+---------------------+-------------------------------------------------+-------------------------------+-------------+\n",
      "|111       |Shadow Enterprises   |0000 Nowhere Lane, Imaginary City, ZZ, 00000, USA|ghost@shadowenterprises.biz    |300          |\n",
      "|22        |Global Tech Solutions|4567 Innovation Park, New York, NY, 10002, USA   |contact@globaltechsolutions.com|750          |\n",
      "+----------+---------------------+-------------------------------------------------+-------------------------------+-------------+\n",
      "\n"
     ]
    }
   ],
   "source": [
    "# Read the company Delta table\n",
    "company_df = spark.read.format(\"delta\").load(company_table_path)\n",
    "\n",
    "# Display the contents\n",
    "company_df.show(truncate=False)"
   ]
  },
  {
   "cell_type": "markdown",
   "metadata": {
    "application/vnd.databricks.v1+cell": {
     "cellMetadata": {},
     "inputWidgets": {},
     "nuid": "799e3548-4451-43fa-97fd-5e1e4649eecd",
     "showTitle": false,
     "title": ""
    }
   },
   "source": [
    "#### Client table in Delta Lake  (doesn't work)"
   ]
  },
  {
   "cell_type": "code",
   "execution_count": 0,
   "metadata": {
    "application/vnd.databricks.v1+cell": {
     "cellMetadata": {
      "byteLimit": 2048000,
      "rowLimit": 10000
     },
     "inputWidgets": {},
     "nuid": "cccb8972-e672-47b8-aa94-7ae7695fdace",
     "showTitle": false,
     "title": ""
    }
   },
   "outputs": [
    {
     "name": "stdout",
     "output_type": "stream",
     "text": [
      "+---------+---------+----+-----+-------------+----------+--------------------+------------------+----------+----------+----------+---------------+\n",
      "|client_sk|client_id|name|email|credit_rating|total_cost|effective_start_date|effective_end_date|is_current|risk_score|risk_level|approval_status|\n",
      "+---------+---------+----+-----+-------------+----------+--------------------+------------------+----------+----------+----------+---------------+\n",
      "+---------+---------+----+-----+-------------+----------+--------------------+------------------+----------+----------+----------+---------------+\n",
      "\n"
     ]
    }
   ],
   "source": [
    "# Read the client Delta table\n",
    "client_df = spark.read.format(\"delta\").load(client_table_path)\n",
    "\n",
    "# Display the contents\n",
    "client_df.show(truncate=False)"
   ]
  },
  {
   "cell_type": "markdown",
   "metadata": {
    "application/vnd.databricks.v1+cell": {
     "cellMetadata": {},
     "inputWidgets": {},
     "nuid": "38d86390-df6f-431a-9d6b-03a25442539f",
     "showTitle": false,
     "title": ""
    }
   },
   "source": [
    "#### It didn't work so i will emulate 'client' table"
   ]
  },
  {
   "cell_type": "code",
   "execution_count": 0,
   "metadata": {
    "application/vnd.databricks.v1+cell": {
     "cellMetadata": {
      "byteLimit": 2048000,
      "rowLimit": 10000
     },
     "inputWidgets": {},
     "nuid": "77c24816-4936-4796-bc10-6c18d43d7b20",
     "showTitle": false,
     "title": ""
    }
   },
   "outputs": [
    {
     "name": "stdout",
     "output_type": "stream",
     "text": [
      "Sample data has been written to the client Delta table.\n",
      "+---------+---------+-------+-------------------+-------------+----------+--------------------+------------------+----------+----------+----------+---------------+\n",
      "|client_sk|client_id|   name|              email|credit_rating|total_cost|effective_start_date|effective_end_date|is_current|risk_score|risk_level|approval_status|\n",
      "+---------+---------+-------+-------------------+-------------+----------+--------------------+------------------+----------+----------+----------+---------------+\n",
      "|        1|     C001|  Alice|  alice@example.com|          700|   1000.00|          2023-09-20|        2023-09-23|     false|       8.5|       Low|       Approved|\n",
      "|        2|     C001|  Alice|  alice@example.com|          710|   2000.00|          2023-09-23|        2023-09-24|     false|       7.8|    Medium|       Approved|\n",
      "|        3|     C001|  Alice|  alice@example.com|          500|  10000.00|          2023-09-24|              null|      true|       2.3|      High|        Pending|\n",
      "|        4|     C002|    Bob|    bob@example.com|          650|    500.00|          2023-08-21|        2023-09-21|     false|       5.6|    Medium|       Approved|\n",
      "|        5|     C002|    Bob|bob_new@example.com|         1000|   1000.00|          2023-09-21|              null|      true|       9.0|       Low|       Approved|\n",
      "|        6|     C003|Charlie|charlie@example.com|          720|    750.00|          2023-09-22|              null|      true|       7.0|    Medium|       Approved|\n",
      "|        7|     C003|Charlie|charlie@example.com|          720|    900.00|          2023-09-22|        2023-09-25|     false|       7.2|    Medium|       Approved|\n",
      "|        8|     C003|Charlie|charlie@example.com|          720|   1200.00|          2023-09-26|              null|      true|       8.1|       Low|       Approved|\n",
      "|        9|     C004|  Diana|  diana@example.com|          680|    800.00|          2023-09-24|              null|      true|       6.5|    Medium|       Approved|\n",
      "|       10|     C005|    Eve|    eve@example.com|          690|    900.00|          2023-09-25|              null|      true|       9.8|      High|       Approved|\n",
      "+---------+---------+-------+-------------------+-------------+----------+--------------------+------------------+----------+----------+----------+---------------+\n",
      "\n"
     ]
    }
   ],
   "source": [
    "from pyspark.sql import Row\n",
    "from pyspark.sql.types import StructType, StructField, StringType, IntegerType, DecimalType, DateType, BooleanType, DoubleType\n",
    "from datetime import date\n",
    "from decimal import Decimal\n",
    "\n",
    "# Define the schema as per your updated client_schema with the new columns\n",
    "client_schema = StructType([\n",
    "    StructField(\"client_sk\", IntegerType()),  # Surrogate key\n",
    "    StructField(\"client_id\", StringType()),   # Business key\n",
    "    StructField(\"name\", StringType()),         # SCD Type 1\n",
    "    StructField(\"email\", StringType()),        # SCD Type 1\n",
    "    StructField(\"credit_rating\", IntegerType()),  # SCD Type 2\n",
    "    StructField(\"total_cost\", DecimalType(10, 2)), # SCD Type 2\n",
    "    StructField(\"effective_start_date\", DateType()),\n",
    "    StructField(\"effective_end_date\", DateType()),\n",
    "    StructField(\"is_current\", BooleanType()), # Redundant column to ensure latest actual value\n",
    "    StructField(\"risk_score\", DoubleType()), # SCD Type 2\n",
    "    StructField(\"risk_level\", StringType()),  # SCD Type 2\n",
    "    StructField(\"approval_status\", StringType()), # SCD Type 2\n",
    "])\n",
    "\n",
    "# Sample data with the new columns\n",
    "sample_data = [\n",
    "    # Alice\n",
    "    Row(client_sk=1, client_id=\"C001\", name=\"Alice\", email=\"alice@example.com\",\n",
    "        credit_rating=700, total_cost=Decimal('1000.00'),\n",
    "        effective_start_date=date(2023, 9, 20), effective_end_date=date(2023, 9, 23), is_current=False,\n",
    "        risk_score=8.5, risk_level=\"Low\", approval_status=\"Approved\"),\n",
    "        \n",
    "    Row(client_sk=2, client_id=\"C001\", name=\"Alice\", email=\"alice@example.com\",\n",
    "        credit_rating=710, total_cost=Decimal('2000.00'),\n",
    "        effective_start_date=date(2023, 9, 23), effective_end_date=date(2023, 9, 24), is_current=False,\n",
    "        risk_score=7.8, risk_level=\"Medium\", approval_status=\"Approved\"),\n",
    "        \n",
    "    Row(client_sk=3, client_id=\"C001\", name=\"Alice\", email=\"alice@example.com\",\n",
    "        credit_rating=500, total_cost=Decimal('10000.00'),\n",
    "        effective_start_date=date(2023, 9, 24), effective_end_date=None, is_current=True,\n",
    "        risk_score=2.3, risk_level=\"High\", approval_status=\"Pending\"),\n",
    "\n",
    "    # Bob\n",
    "    Row(client_sk=4, client_id=\"C002\", name=\"Bob\", email=\"bob@example.com\",\n",
    "        credit_rating=650, total_cost=Decimal('500.00'),\n",
    "        effective_start_date=date(2023, 8, 21), effective_end_date=date(2023, 9, 21), is_current=False,\n",
    "        risk_score=5.6, risk_level=\"Medium\", approval_status=\"Approved\"),\n",
    "        \n",
    "    Row(client_sk=5, client_id=\"C002\", name=\"Bob\", email=\"bob_new@example.com\",\n",
    "        credit_rating=1000, total_cost=Decimal('1000.00'),\n",
    "        effective_start_date=date(2023, 9, 21), effective_end_date=None, is_current=True,\n",
    "        risk_score=9.0, risk_level=\"Low\", approval_status=\"Approved\"),\n",
    "\n",
    "    # Charlie\n",
    "    Row(client_sk=6, client_id=\"C003\", name=\"Charlie\", email=\"charlie@example.com\",\n",
    "        credit_rating=720, total_cost=Decimal('750.00'),\n",
    "        effective_start_date=date(2023, 9, 22), effective_end_date=None, is_current=True,\n",
    "        risk_score=7.0, risk_level=\"Medium\", approval_status=\"Approved\"),\n",
    "\n",
    "    Row(client_sk=7, client_id=\"C003\", name=\"Charlie\", email=\"charlie@example.com\",\n",
    "        credit_rating=720, total_cost=Decimal('900.00'),\n",
    "        effective_start_date=date(2023, 9, 22), effective_end_date=date(2023, 9, 25), is_current=False,\n",
    "        risk_score=7.2, risk_level=\"Medium\", approval_status=\"Approved\"),\n",
    "\n",
    "    Row(client_sk=8, client_id=\"C003\", name=\"Charlie\", email=\"charlie@example.com\",\n",
    "        credit_rating=720, total_cost=Decimal('1200.00'),\n",
    "        effective_start_date=date(2023, 9, 26), effective_end_date=None, is_current=True,\n",
    "        risk_score=8.1, risk_level=\"Low\", approval_status=\"Approved\"),\n",
    "\n",
    "    # Diana\n",
    "    Row(client_sk=9, client_id=\"C004\", name=\"Diana\", email=\"diana@example.com\",\n",
    "        credit_rating=680, total_cost=Decimal('800.00'),\n",
    "        effective_start_date=date(2023, 9, 24), effective_end_date=None, is_current=True,\n",
    "        risk_score=6.5, risk_level=\"Medium\", approval_status=\"Approved\"),\n",
    "\n",
    "    # Diana\n",
    "    Row(client_sk=10, client_id=\"C005\", name=\"Eve\", email=\"eve@example.com\",\n",
    "        credit_rating=690, total_cost=Decimal('900.00'),\n",
    "        effective_start_date=date(2023, 9, 25), effective_end_date=None, is_current=True,\n",
    "        risk_score=9.8, risk_level=\"High\", approval_status=\"Approved\"),\n",
    "]\n",
    "\n",
    "# Create DataFrame with the sample data\n",
    "sample_df = spark.createDataFrame(sample_data, schema=client_schema)\n",
    "\n",
    "# Define the path where you want to store the Delta table\n",
    "client_table_path = \"/path/to/delta/client_table\"\n",
    "\n",
    "# Write the DataFrame into the Delta table (overwrite existing data)\n",
    "sample_df.write.format(\"delta\").mode(\"overwrite\").option(\"overwriteSchema\", \"true\").save(client_table_path)\n",
    "\n",
    "print(\"Sample data has been written to the client Delta table.\")\n",
    "\n",
    "# Read back the data to verify\n",
    "client_df = spark.read.format(\"delta\").load(client_table_path)\n",
    "client_df.orderBy([\"client_id\",\"client_sk\"]).show(truncate=False)"
   ]
  },
  {
   "cell_type": "code",
   "execution_count": 0,
   "metadata": {
    "application/vnd.databricks.v1+cell": {
     "cellMetadata": {
      "byteLimit": 2048000,
      "rowLimit": 10000
     },
     "inputWidgets": {},
     "nuid": "65437c7e-94bf-463f-8fe7-4aa5298744ed",
     "showTitle": false,
     "title": ""
    }
   },
   "outputs": [
    {
     "name": "stdout",
     "output_type": "stream",
     "text": [
      "+--------------------+-------------+\n",
      "|effective_start_date|credit_rating|\n",
      "+--------------------+-------------+\n",
      "|2023-09-20          |700          |\n",
      "|2023-09-23          |710          |\n",
      "|2023-09-24          |500          |\n",
      "+--------------------+-------------+\n",
      "\n"
     ]
    }
   ],
   "source": [
    "\n",
    "alice_df = (\n",
    "    client_df\n",
    "        .filter(F.col(\"client_id\") == \"C001\")\n",
    "            .orderBy(F.col(\"effective_start_date\"), ascending=True)\n",
    "            .select(\n",
    "            F.col(\"effective_start_date\"),\n",
    "            F.col(\"credit_rating\").alias(\"credit_rating\")\n",
    "        )\n",
    ")\n",
    "\n",
    "# Show Alice's records\n",
    "alice_df.show(truncate=False)"
   ]
  },
  {
   "cell_type": "markdown",
   "metadata": {
    "application/vnd.databricks.v1+cell": {
     "cellMetadata": {},
     "inputWidgets": {},
     "nuid": "cf182af3-0e0c-46d6-80cf-efa8ac53ef27",
     "showTitle": false,
     "title": ""
    }
   },
   "source": [
    "#### Let's create super simple chat that shows one user's credit rating"
   ]
  },
  {
   "cell_type": "code",
   "execution_count": 0,
   "metadata": {
    "application/vnd.databricks.v1+cell": {
     "cellMetadata": {
      "byteLimit": 2048000,
      "rowLimit": 10000
     },
     "inputWidgets": {},
     "nuid": "81cac11a-a2f9-4baa-8be0-dbccbc823350",
     "showTitle": false,
     "title": ""
    }
   },
   "outputs": [
    {
     "data": {
      "image/png": "[encoded data removed]"
     },
     "metadata": {
      "application/vnd.databricks.v1+output": {
       "addedWidgets": {},
       "arguments": {},
       "data": "data:image/png;base64,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\n",
       "datasetInfos": [],
       "metadata": {},
       "removedWidgets": [],
       "type": "image"
      }
     },
     "output_type": "display_data"
    }
   ],
   "source": [
    "import pandas as pd\n",
    "import matplotlib.pyplot as plt\n",
    "import matplotlib.dates as mdates\n",
    "\n",
    "# Convert the DataFrame to Pandas for plotting\n",
    "alice_risk_pd = alice_df.toPandas()\n",
    "\n",
    "# Convert effective_start_date to datetime if necessary\n",
    "alice_risk_pd['effective_start_date'] = pd.to_datetime(alice_risk_pd['effective_start_date'])\n",
    "\n",
    "# Plot the data\n",
    "plt.figure(figsize=(10, 6))\n",
    "plt.plot(alice_risk_pd['effective_start_date'], alice_risk_pd['credit_rating'], marker='o', linestyle='-')\n",
    "plt.title(\"Alice's Credit Rating Over Time\")\n",
    "plt.xlabel('Effective Start Date')\n",
    "plt.ylabel('Credit Rating')\n",
    "plt.grid(True)\n",
    "\n",
    "# Format the x-axis dates\n",
    "plt.gca().xaxis.set_major_formatter(mdates.DateFormatter('%Y-%m-%d'))\n",
    "plt.gcf().autofmt_xdate()  # Rotate date labels\n",
    "\n",
    "# Display the plot\n",
    "plt.show()"
   ]
  },
  {
   "cell_type": "markdown",
   "metadata": {},
   "source": [
    "\n",
    "#### Conclusion\n",
    "\n",
    "I covered the most important requirements, and there is room for improvement. 😊"
   ]
  }
 ],
 "metadata": {
  "application/vnd.databricks.v1+notebook": {
   "dashboards": [],
   "environmentMetadata": {
    "base_environment": "",
    "client": "1"
   },
   "language": "python",
   "notebookMetadata": {
    "mostRecentlyExecutedCommandWithImplicitDF": {
     "commandId": 4016826182764860,
     "dataframes": [
      "_sqldf"
     ]
    },
    "pythonIndentUnit": 4
   },
   "notebookName": "risk-assesment-notebook",
   "widgets": {}
  },
  "language_info": {
   "name": "python"
  }
 },
 "nbformat": 4,
 "nbformat_minor": 0
}
